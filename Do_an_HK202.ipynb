{
  "nbformat": 4,
  "nbformat_minor": 0,
  "metadata": {
    "colab": {
      "name": "Do_an_HK202.ipynb",
      "provenance": [],
      "mount_file_id": "1SL4LVgZcgOShhK8h2ZWxpJUrlOpBh19I",
      "authorship_tag": "ABX9TyNtOx/BkUCeoDFbkXzTtO4d",
      "include_colab_link": true
    },
    "kernelspec": {
      "name": "python3",
      "display_name": "Python 3"
    },
    "language_info": {
      "name": "python"
    },
    "accelerator": "GPU"
  },
  "cells": [
    {
      "cell_type": "markdown",
      "metadata": {
        "id": "view-in-github",
        "colab_type": "text"
      },
      "source": [
        "<a href=\"https://colab.research.google.com/github/Minatozaki0911/CapstoneProject202/blob/main/Do_an_HK202.ipynb\" target=\"_parent\"><img src=\"https://colab.research.google.com/assets/colab-badge.svg\" alt=\"Open In Colab\"/></a>"
      ]
    },
    {
      "cell_type": "code",
      "metadata": {
        "colab": {
          "base_uri": "https://localhost:8080/"
        },
        "id": "eyUppdDltxu7",
        "outputId": "6fc03356-e1b1-4502-93fa-f2f77770a644"
      },
      "source": [
        "!pip install keras"
      ],
      "execution_count": 1,
      "outputs": [
        {
          "output_type": "stream",
          "text": [
            "Requirement already satisfied: keras in /usr/local/lib/python3.7/dist-packages (2.4.3)\n",
            "Requirement already satisfied: numpy>=1.9.1 in /usr/local/lib/python3.7/dist-packages (from keras) (1.19.5)\n",
            "Requirement already satisfied: h5py in /usr/local/lib/python3.7/dist-packages (from keras) (3.1.0)\n",
            "Requirement already satisfied: pyyaml in /usr/local/lib/python3.7/dist-packages (from keras) (3.13)\n",
            "Requirement already satisfied: scipy>=0.14 in /usr/local/lib/python3.7/dist-packages (from keras) (1.4.1)\n",
            "Requirement already satisfied: cached-property in /usr/local/lib/python3.7/dist-packages (from h5py->keras) (1.5.2)\n"
          ],
          "name": "stdout"
        }
      ]
    },
    {
      "cell_type": "code",
      "metadata": {
        "id": "cBZmTthCe3Gb"
      },
      "source": [
        "import os\n",
        "import cv2\n",
        "\n",
        "import numpy as np\n",
        "import matplotlib.pyplot as plt\n",
        "import matplotlib.style as style\n",
        "\n",
        "from tensorflow import keras\n",
        "from tensorflow.keras import models, layers, optimizers\n",
        "from tensorflow.keras.applications import VGG16\n",
        "from tensorflow.keras.callbacks import EarlyStopping, ModelCheckpoint\n",
        "from tensorflow.keras.layers import Dense, Dropout, Flatten\n",
        "from tensorflow.keras.models import Model\n",
        "from tensorflow.keras.preprocessing import image as image_utils\n",
        "from tensorflow.keras.preprocessing.image import ImageDataGenerator\n",
        "from tensorflow.keras.utils import to_categorical\n",
        "\n",
        "from sklearn.metrics import classification_report, confusion_matrix\n",
        "from sklearn.model_selection import train_test_split\n",
        "\n",
        "from PIL import Image\n",
        "from PIL import ImageFile\n",
        "ImageFile.LOAD_TRUNCATED_IMAGES = True\n",
        "\n",
        "import pandas as pd"
      ],
      "execution_count": 2,
      "outputs": []
    },
    {
      "cell_type": "code",
      "metadata": {
        "colab": {
          "base_uri": "https://localhost:8080/"
        },
        "id": "5x8cyX3kvTNc",
        "outputId": "349cd092-978a-484e-8029-25ef3dbd33d3"
      },
      "source": [
        "!unzip '/content/drive/MyDrive/Colab Notebooks/DO_AN_HK202/dataHandLang.zip' -d '/content/drive/mMyDrive/Colab Notebooks/DO_AN_HK202/train'"
      ],
      "execution_count": 3,
      "outputs": [
        {
          "output_type": "stream",
          "text": [
            "Archive:  /content/drive/MyDrive/Colab Notebooks/DO_AN_HK202/dataHandLang.zip\n",
            "checkdir:  cannot create extraction directory: /content/drive/mMyDrive/Colab Notebooks/DO_AN_HK202/train\n",
            "           No such file or directory\n"
          ],
          "name": "stdout"
        }
      ]
    },
    {
      "cell_type": "code",
      "metadata": {
        "id": "lUS161ji0QvQ"
      },
      "source": [
        "gesture_names = {0: 'E',\n",
        "                 1: 'L',\n",
        "                 2: 'F',\n",
        "                 3: 'V',\n",
        "                 4: 'B'}\n",
        "\n",
        "gestures = {'L_': 'L',\n",
        "           'fi': 'E',\n",
        "           'ok': 'F',\n",
        "           'pe': 'V',\n",
        "           'pa': 'B'\n",
        "            }\n",
        "\n",
        "gestures_map = {'E': 0,\n",
        "                'L': 1,\n",
        "                'F': 2,\n",
        "                'V': 3,\n",
        "                'B': 4\n",
        "                }\n",
        "dimension = 224            "
      ],
      "execution_count": 4,
      "outputs": []
    },
    {
      "cell_type": "code",
      "metadata": {
        "id": "9eO0UABnz1me"
      },
      "source": [
        "image_path = '/content/drive/MyDrive/Colab Notebooks/DO_AN_HK202/train'\n",
        "model_path = '/content/drive/MyDrive/Colab Notebooks/DO_AN_HK202/'"
      ],
      "execution_count": 5,
      "outputs": []
    },
    {
      "cell_type": "code",
      "metadata": {
        "id": "UxeKbQtM16fu"
      },
      "source": [
        "def process_image(path):\n",
        "    img = Image.open(path)\n",
        "    img = img.resize((dimension, dimension))\n",
        "    img = np.array(img)\n",
        "    return img"
      ],
      "execution_count": 6,
      "outputs": []
    },
    {
      "cell_type": "code",
      "metadata": {
        "id": "m0S74aAd18b9"
      },
      "source": [
        "def process_data(X_data, y_data):\n",
        "    X_data = np.array(X_data, dtype = 'float32')\n",
        "    X_data = np.stack((X_data,)*3, axis=-1)\n",
        "    X_data /= 255\n",
        "    y_data = np.array(y_data)\n",
        "    y_data = to_categorical(y_data)\n",
        "    return X_data, y_data"
      ],
      "execution_count": 7,
      "outputs": []
    },
    {
      "cell_type": "code",
      "metadata": {
        "id": "YdaqutPk19s3"
      },
      "source": [
        "def walk_file_tree(image_path):\n",
        "    X_data = []\n",
        "    y_data = []\n",
        "    for directory, subdirectories, files in os.walk(image_path):\n",
        "        for file in files:\n",
        "            if not file.startswith('.'):\n",
        "                path = os.path.join(directory, file)\n",
        "                gesture_name = gestures[file[0:2]]\n",
        "                print(gesture_name)\n",
        "                print(gestures_map[gesture_name])\n",
        "                y_data.append(gestures_map[gesture_name])\n",
        "                X_data.append(process_image(path))\n",
        "\n",
        "            else:\n",
        "                continue\n",
        "\n",
        "    X_data, y_data = process_data(X_data, y_data)\n",
        "    return X_data, y_data"
      ],
      "execution_count": 8,
      "outputs": []
    },
    {
      "cell_type": "code",
      "metadata": {
        "id": "HTz9dq662BPO"
      },
      "source": [
        "X_data, y_data = walk_file_tree(image_path)"
      ],
      "execution_count": null,
      "outputs": []
    },
    {
      "cell_type": "code",
      "metadata": {
        "id": "y4uHN3dP238U"
      },
      "source": [
        "X_train, X_test, y_train, y_test = train_test_split(X_data, y_data,\n",
        "                                                    test_size = 0.2, \n",
        "                                                    random_state=12, \n",
        "                                                    stratify=y_data)"
      ],
      "execution_count": 10,
      "outputs": []
    },
    {
      "cell_type": "code",
      "metadata": {
        "id": "SsUXaQh328uz"
      },
      "source": [
        "model_checkpoint = ModelCheckpoint(filepath=model_path, save_best_only=True)\n",
        "early_stopping = EarlyStopping(monitor='val_acc',\n",
        "                               min_delta=0,\n",
        "                               patience=10,\n",
        "                               verbose=1,\n",
        "                               mode='auto',\n",
        "                               restore_best_weights=True)"
      ],
      "execution_count": 20,
      "outputs": []
    },
    {
      "cell_type": "code",
      "metadata": {
        "id": "Qe6Xodhy3JDd"
      },
      "source": [
        "model1 = VGG16(weights='imagenet', include_top=False, input_shape=(dimension, dimension, 3))\n",
        "optimizer1 = optimizers.Adam()\n",
        "base_model = model1"
      ],
      "execution_count": 21,
      "outputs": []
    },
    {
      "cell_type": "code",
      "metadata": {
        "id": "oYp0RNJh3Sel"
      },
      "source": [
        "x = base_model.output\n",
        "x = Flatten()(x)\n",
        "x = Dense(128, activation='relu')(x)\n",
        "x = Dense(128, activation='relu')(x)\n",
        "x = Dense(128, activation='relu')(x)\n",
        "x = Dense(128, activation='relu')(x)\n",
        "x = Dropout(0.2)(x)\n",
        "x = Dense(64, activation='relu')(x)\n",
        "predictions = Dense(5, activation='softmax')(x)"
      ],
      "execution_count": 23,
      "outputs": []
    },
    {
      "cell_type": "code",
      "metadata": {
        "id": "eVVbTvXL4hmN"
      },
      "source": [
        "model = Model(inputs=base_model.input, outputs=predictions)"
      ],
      "execution_count": 24,
      "outputs": []
    },
    {
      "cell_type": "code",
      "metadata": {
        "id": "211avZkl479o"
      },
      "source": [
        "for layer in base_model.layers:\n",
        "    layer.trainable = False"
      ],
      "execution_count": 25,
      "outputs": []
    },
    {
      "cell_type": "code",
      "metadata": {
        "id": "qCQPswNE5C9l"
      },
      "source": [
        "model.compile(optimizer='Adam', loss='categorical_crossentropy', metrics=['acc'])"
      ],
      "execution_count": 26,
      "outputs": []
    },
    {
      "cell_type": "code",
      "metadata": {
        "colab": {
          "base_uri": "https://localhost:8080/"
        },
        "id": "Vk9A_UZj5LG9",
        "outputId": "ddced8ea-1467-4a94-ee7a-df2c269ff479"
      },
      "source": [
        "history = model.fit(X_train, y_train, epochs=30, batch_size=32, validation_data=(X_test, y_test), verbose=1,\n",
        "          callbacks=[early_stopping, model_checkpoint])"
      ],
      "execution_count": 28,
      "outputs": [
        {
          "output_type": "stream",
          "text": [
            "Epoch 1/30\n",
            "69/69 [==============================] - 12s 171ms/step - loss: 0.0756 - acc: 0.9750 - val_loss: 0.0409 - val_acc: 0.9855\n",
            "INFO:tensorflow:Assets written to: /content/drive/MyDrive/Colab Notebooks/DO_AN_HK202/assets\n",
            "Epoch 2/30\n",
            "69/69 [==============================] - 12s 171ms/step - loss: 0.0338 - acc: 0.9900 - val_loss: 0.0902 - val_acc: 0.9691\n",
            "Epoch 3/30\n",
            "69/69 [==============================] - 12s 172ms/step - loss: 0.0433 - acc: 0.9864 - val_loss: 0.0483 - val_acc: 0.9800\n",
            "Epoch 4/30\n",
            "69/69 [==============================] - 12s 173ms/step - loss: 0.0087 - acc: 0.9964 - val_loss: 0.1216 - val_acc: 0.9764\n",
            "Epoch 5/30\n",
            "69/69 [==============================] - 12s 174ms/step - loss: 0.0555 - acc: 0.9850 - val_loss: 0.0478 - val_acc: 0.9818\n",
            "Epoch 6/30\n",
            "69/69 [==============================] - 12s 174ms/step - loss: 0.0058 - acc: 0.9991 - val_loss: 0.0684 - val_acc: 0.9855\n",
            "Epoch 7/30\n",
            "69/69 [==============================] - 12s 175ms/step - loss: 0.0221 - acc: 0.9932 - val_loss: 0.1098 - val_acc: 0.9745\n",
            "Epoch 8/30\n",
            "69/69 [==============================] - 12s 177ms/step - loss: 0.0075 - acc: 0.9982 - val_loss: 0.1737 - val_acc: 0.9618\n",
            "Epoch 9/30\n",
            "69/69 [==============================] - 12s 177ms/step - loss: 0.0355 - acc: 0.9900 - val_loss: 0.0436 - val_acc: 0.9873\n",
            "Epoch 10/30\n",
            "69/69 [==============================] - 12s 175ms/step - loss: 0.0125 - acc: 0.9964 - val_loss: 0.1782 - val_acc: 0.9545\n",
            "Epoch 11/30\n",
            "69/69 [==============================] - 12s 175ms/step - loss: 0.0262 - acc: 0.9923 - val_loss: 0.0395 - val_acc: 0.9927\n",
            "INFO:tensorflow:Assets written to: /content/drive/MyDrive/Colab Notebooks/DO_AN_HK202/assets\n",
            "Epoch 12/30\n",
            "69/69 [==============================] - 12s 175ms/step - loss: 0.0033 - acc: 0.9982 - val_loss: 0.0305 - val_acc: 0.9927\n",
            "INFO:tensorflow:Assets written to: /content/drive/MyDrive/Colab Notebooks/DO_AN_HK202/assets\n",
            "Epoch 13/30\n",
            "69/69 [==============================] - 12s 175ms/step - loss: 6.8603e-04 - acc: 1.0000 - val_loss: 0.0308 - val_acc: 0.9927\n",
            "Epoch 14/30\n",
            "69/69 [==============================] - 12s 177ms/step - loss: 2.4690e-04 - acc: 1.0000 - val_loss: 0.0356 - val_acc: 0.9927\n",
            "Epoch 15/30\n",
            "69/69 [==============================] - 12s 176ms/step - loss: 7.7253e-05 - acc: 1.0000 - val_loss: 0.0332 - val_acc: 0.9927\n",
            "Epoch 16/30\n",
            "69/69 [==============================] - 12s 176ms/step - loss: 3.0602e-05 - acc: 1.0000 - val_loss: 0.0358 - val_acc: 0.9927\n",
            "Epoch 17/30\n",
            "69/69 [==============================] - 12s 175ms/step - loss: 1.6298e-05 - acc: 1.0000 - val_loss: 0.0380 - val_acc: 0.9927\n",
            "Epoch 18/30\n",
            "69/69 [==============================] - 12s 175ms/step - loss: 1.1413e-05 - acc: 1.0000 - val_loss: 0.0390 - val_acc: 0.9927\n",
            "Epoch 19/30\n",
            "69/69 [==============================] - 12s 175ms/step - loss: 1.0934e-05 - acc: 1.0000 - val_loss: 0.0403 - val_acc: 0.9927\n",
            "Epoch 20/30\n",
            "69/69 [==============================] - 12s 175ms/step - loss: 9.7673e-06 - acc: 1.0000 - val_loss: 0.0408 - val_acc: 0.9927\n",
            "Epoch 21/30\n",
            "69/69 [==============================] - 12s 174ms/step - loss: 1.8552e-05 - acc: 1.0000 - val_loss: 0.0425 - val_acc: 0.9927\n",
            "Restoring model weights from the end of the best epoch.\n",
            "Epoch 00021: early stopping\n"
          ],
          "name": "stdout"
        }
      ]
    },
    {
      "cell_type": "code",
      "metadata": {
        "colab": {
          "base_uri": "https://localhost:8080/",
          "height": 202
        },
        "id": "gAhcCSDxzy_S",
        "outputId": "f59e3db8-1e8d-4449-875f-c9ee2087df9e"
      },
      "source": [
        "fig, ax = plt.subplots(1, 2, figsize=(20, 3))\n",
        "ax = ax.ravel()\n",
        "\n",
        "for i, metric in enumerate([\"acc\", \"loss\"]):\n",
        "    ax[i].plot(model.history.history[metric])\n",
        "    ax[i].plot(model.history.history[\"val_\" + metric])\n",
        "    ax[i].set_title(\"Model {}\".format(metric))\n",
        "    ax[i].set_xlabel(\"epochs\")\n",
        "    ax[i].set_ylabel(metric)\n",
        "    ax[i].legend([\"train\", \"val\"])"
      ],
      "execution_count": 29,
      "outputs": [
        {
          "output_type": "display_data",
          "data": {
            "image/png": "[encoded data removed]",
            "text/plain": [
              "<Figure size 1440x216 with 2 Axes>"
            ]
          },
          "metadata": {
            "tags": [],
            "needs_background": "light"
          }
        }
      ]
    },
    {
      "cell_type": "code",
      "metadata": {
        "id": "HsL08GIus_Ep",
        "colab": {
          "base_uri": "https://localhost:8080/"
        },
        "outputId": "eff8b294-4e78-4d8d-e826-caaa0f418472"
      },
      "source": [
        "os.chdir('/content/drive/MyDrive/Colab Notebooks')\n",
        "model.save(\"Do_an_HK202\")         #Model folder contain .pb file\n",
        "model.save(\"ThaiBaoKhang.h5\")            #HDF5 format for custom use"
      ],
      "execution_count": 30,
      "outputs": [
        {
          "output_type": "stream",
          "text": [
            "INFO:tensorflow:Assets written to: Do_an_HK202/assets\n"
          ],
          "name": "stdout"
        }
      ]
    }
  ]
}